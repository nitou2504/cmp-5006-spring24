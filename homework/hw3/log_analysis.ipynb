{
 "cells": [
  {
   "cell_type": "markdown",
   "metadata": {},
   "source": [
    "### Parse azure rules\n",
    "\n",
    "Since there is no rule name in the logs, we are going to parse html extracted from the Azure portal WAF policies, since it includes a table with rules ids and rule names."
   ]
  },
  {
   "cell_type": "code",
   "execution_count": 4,
   "metadata": {},
   "outputs": [],
   "source": [
    "import pandas as pd\n",
    "from bs4 import BeautifulSoup\n",
    "\n",
    "# Opening the rules HTML file\n",
    "with open('azure-rules.html', 'r') as file:\n",
    "    html_content = file.read()\n",
    "\n",
    "# Parse the HTML\n",
    "soup = BeautifulSoup(html_content, 'html.parser')\n",
    "\n",
    "# Initialize lists to store data\n",
    "rows_data = []\n",
    "\n",
    "# Find all divs with class 'ms-List-cell', which represent each row\n",
    "rows = soup.find_all(\"div\", {\"class\": \"ms-List-cell\"})\n",
    "\n",
    "# Iterate through each row\n",
    "for row in rows:\n",
    "    try:\n",
    "        # Extract values for each column\n",
    "        rule_id = row.find(\"div\", {\"data-automation-key\": \"RuleId\"}).text.strip().replace('\\n', '')\n",
    "        description = row.find(\"div\", {\"data-automation-key\": \"Description\"}).text.strip().replace('\\n', '')\n",
    "        action = row.find(\"div\", {\"data-automation-key\": \"Action\"}).text.strip().replace('\\n', '')\n",
    "        status = row.find(\"div\", {\"data-automation-key\": \"Status\"}).text.strip().replace('\\n', '')\n",
    "        exclusions = row.find(\"div\", {\"data-automation-key\": \"Exclusions\"}).text.strip().replace('\\n', '')\n",
    "        rule_group = row.find(\"div\", {\"data-automation-key\": \"RuleGroup\"}).text.strip().replace('\\n', '')\n",
    "        rule_set = row.find(\"div\", {\"data-automation-key\": \"RuleSet\"}).text.strip().replace('\\n', '')\n",
    "        \n",
    "        # Append data to the list\n",
    "        rows_data.append([rule_id, description, action, status, exclusions, rule_group, rule_set])\n",
    "    except AttributeError as e:\n",
    "        print(\"Error occurred while processing a row:\", e)\n",
    "\n",
    "# Create a DataFrame\n",
    "rules_df = pd.DataFrame(rows_data, columns=['RuleId', 'Description', 'Action', 'Status', 'Exclusions', 'RuleGroup', 'RuleSet'])\n",
    "\n",
    "# Save the DataFrame to a CSV file\n",
    "rules_df.to_csv('azure-rules.csv', index=False)\n"
   ]
  },
  {
   "cell_type": "code",
   "execution_count": 5,
   "metadata": {},
   "outputs": [],
   "source": [
    "rules_df = pd.read_csv('azure-rules.csv')"
   ]
  },
  {
   "cell_type": "code",
   "execution_count": 6,
   "metadata": {},
   "outputs": [
    {
     "data": {
      "text/html": [
       "<div>\n",
       "<style scoped>\n",
       "    .dataframe tbody tr th:only-of-type {\n",
       "        vertical-align: middle;\n",
       "    }\n",
       "\n",
       "    .dataframe tbody tr th {\n",
       "        vertical-align: top;\n",
       "    }\n",
       "\n",
       "    .dataframe thead th {\n",
       "        text-align: right;\n",
       "    }\n",
       "</style>\n",
       "<table border=\"1\" class=\"dataframe\">\n",
       "  <thead>\n",
       "    <tr style=\"text-align: right;\">\n",
       "      <th></th>\n",
       "      <th>RuleId</th>\n",
       "      <th>Description</th>\n",
       "      <th>Action</th>\n",
       "      <th>Status</th>\n",
       "      <th>Exclusions</th>\n",
       "      <th>RuleGroup</th>\n",
       "      <th>RuleSet</th>\n",
       "    </tr>\n",
       "  </thead>\n",
       "  <tbody>\n",
       "    <tr>\n",
       "      <th>0</th>\n",
       "      <td>200002</td>\n",
       "      <td>Failed to Parse Request Body.</td>\n",
       "      <td>Anomaly score</td>\n",
       "      <td>Enabled</td>\n",
       "      <td>NaN</td>\n",
       "      <td>General</td>\n",
       "      <td>OWASP_3.2</td>\n",
       "    </tr>\n",
       "    <tr>\n",
       "      <th>1</th>\n",
       "      <td>200003</td>\n",
       "      <td>Multipart Request Body Strict                 ...</td>\n",
       "      <td>Anomaly score</td>\n",
       "      <td>Enabled</td>\n",
       "      <td>NaN</td>\n",
       "      <td>General</td>\n",
       "      <td>OWASP_3.2</td>\n",
       "    </tr>\n",
       "    <tr>\n",
       "      <th>2</th>\n",
       "      <td>200004</td>\n",
       "      <td>Possible Multipart Unmatched                  ...</td>\n",
       "      <td>Anomaly score</td>\n",
       "      <td>Enabled</td>\n",
       "      <td>NaN</td>\n",
       "      <td>General</td>\n",
       "      <td>OWASP_3.2</td>\n",
       "    </tr>\n",
       "    <tr>\n",
       "      <th>3</th>\n",
       "      <td>911100</td>\n",
       "      <td>Method is not allowed by                      ...</td>\n",
       "      <td>Anomaly score</td>\n",
       "      <td>Enabled</td>\n",
       "      <td>NaN</td>\n",
       "      <td>REQUEST-911-METHOD-ENFORCEMENT</td>\n",
       "      <td>OWASP_3.2</td>\n",
       "    </tr>\n",
       "    <tr>\n",
       "      <th>4</th>\n",
       "      <td>913100</td>\n",
       "      <td>Found User-Agent associated                   ...</td>\n",
       "      <td>Anomaly score</td>\n",
       "      <td>Enabled</td>\n",
       "      <td>NaN</td>\n",
       "      <td>REQUEST-913-SCANNER-DETECTION</td>\n",
       "      <td>OWASP_3.2</td>\n",
       "    </tr>\n",
       "  </tbody>\n",
       "</table>\n",
       "</div>"
      ],
      "text/plain": [
       "   RuleId                                        Description         Action  \\\n",
       "0  200002                      Failed to Parse Request Body.  Anomaly score   \n",
       "1  200003  Multipart Request Body Strict                 ...  Anomaly score   \n",
       "2  200004  Possible Multipart Unmatched                  ...  Anomaly score   \n",
       "3  911100  Method is not allowed by                      ...  Anomaly score   \n",
       "4  913100  Found User-Agent associated                   ...  Anomaly score   \n",
       "\n",
       "    Status  Exclusions                       RuleGroup    RuleSet  \n",
       "0  Enabled         NaN                         General  OWASP_3.2  \n",
       "1  Enabled         NaN                         General  OWASP_3.2  \n",
       "2  Enabled         NaN                         General  OWASP_3.2  \n",
       "3  Enabled         NaN  REQUEST-911-METHOD-ENFORCEMENT  OWASP_3.2  \n",
       "4  Enabled         NaN   REQUEST-913-SCANNER-DETECTION  OWASP_3.2  "
      ]
     },
     "execution_count": 6,
     "metadata": {},
     "output_type": "execute_result"
    }
   ],
   "source": [
    "rules_df.head()"
   ]
  },
  {
   "cell_type": "code",
   "execution_count": 7,
   "metadata": {},
   "outputs": [
    {
     "name": "stdout",
     "output_type": "stream",
     "text": [
      "<class 'pandas.core.frame.DataFrame'>\n",
      "RangeIndex: 186 entries, 0 to 185\n",
      "Data columns (total 7 columns):\n",
      " #   Column       Non-Null Count  Dtype  \n",
      "---  ------       --------------  -----  \n",
      " 0   RuleId       186 non-null    int64  \n",
      " 1   Description  186 non-null    object \n",
      " 2   Action       186 non-null    object \n",
      " 3   Status       186 non-null    object \n",
      " 4   Exclusions   0 non-null      float64\n",
      " 5   RuleGroup    186 non-null    object \n",
      " 6   RuleSet      186 non-null    object \n",
      "dtypes: float64(1), int64(1), object(5)\n",
      "memory usage: 10.3+ KB\n"
     ]
    }
   ],
   "source": [
    "rules_df.info()"
   ]
  },
  {
   "cell_type": "markdown",
   "metadata": {},
   "source": [
    "### WAF logs Preparation"
   ]
  },
  {
   "cell_type": "code",
   "execution_count": 8,
   "metadata": {},
   "outputs": [],
   "source": [
    "# Read the CSV file\n",
    "waf_logs_df = pd.read_csv('waf-gateway-logs.csv')"
   ]
  },
  {
   "cell_type": "code",
   "execution_count": 9,
   "metadata": {},
   "outputs": [
    {
     "name": "stdout",
     "output_type": "stream",
     "text": [
      "<class 'pandas.core.frame.DataFrame'>\n",
      "RangeIndex: 1585 entries, 0 to 1584\n",
      "Data columns (total 22 columns):\n",
      " #   Column                      Non-Null Count  Dtype  \n",
      "---  ------                      --------------  -----  \n",
      " 0   TenantId                    1585 non-null   object \n",
      " 1   TimeGenerated [Local Time]  1585 non-null   object \n",
      " 2   OperationName               1585 non-null   object \n",
      " 3   InstanceId                  1585 non-null   object \n",
      " 4   ClientIp                    1585 non-null   object \n",
      " 5   ClientPort                  0 non-null      float64\n",
      " 6   RequestUri                  1585 non-null   object \n",
      " 7   RuleSetType                 1585 non-null   object \n",
      " 8   RuleSetVersion              1418 non-null   float64\n",
      " 9   RuleId                      1418 non-null   float64\n",
      " 10  Message                     1585 non-null   object \n",
      " 11  Action                      1585 non-null   object \n",
      " 12  Site                        0 non-null      float64\n",
      " 13  DetailedMessage             1418 non-null   object \n",
      " 14  DetailedData                1062 non-null   object \n",
      " 15  FileDetails                 1418 non-null   object \n",
      " 16  LineDetails                 1418 non-null   float64\n",
      " 17  Hostname                    817 non-null    object \n",
      " 18  TransactionId               1585 non-null   object \n",
      " 19  SourceSystem                0 non-null      float64\n",
      " 20  Type                        1585 non-null   object \n",
      " 21  _ResourceId                 1585 non-null   object \n",
      "dtypes: float64(6), object(16)\n",
      "memory usage: 272.6+ KB\n"
     ]
    }
   ],
   "source": [
    "waf_logs_df.info()"
   ]
  },
  {
   "cell_type": "code",
   "execution_count": 10,
   "metadata": {},
   "outputs": [
    {
     "name": "stdout",
     "output_type": "stream",
     "text": [
      "Number of rows with missing RuleId: 167\n",
      "Number of rows where 'bot' is present in the Message: 167\n",
      "Number of rows where 'bot' is present in the RuleSetType: 167\n"
     ]
    }
   ],
   "source": [
    "# rows with missing RuleId\n",
    "no_rule = waf_logs_df[waf_logs_df['RuleId'].isnull()]\n",
    "\n",
    "# count rows where 'bot' in Message\n",
    "bot_count = waf_logs_df[waf_logs_df['Message'].str.contains('bot', case=False, na=False)].shape[0]\n",
    "\n",
    "# count rows where 'bot' in RuleSetType\n",
    "bot_rule_set_count = waf_logs_df[waf_logs_df['RuleSetType'].str.contains('bot', case=False, na=False)].shape[0]\n",
    "\n",
    "print(\"Number of rows with missing RuleId:\", no_rule.shape[0])\n",
    "print(\"Number of rows where 'bot' is present in the Message:\", bot_count)\n",
    "print(\"Number of rows where 'bot' is present in the RuleSetType:\", bot_rule_set_count)"
   ]
  },
  {
   "cell_type": "code",
   "execution_count": 11,
   "metadata": {},
   "outputs": [],
   "source": [
    "# Fill missing values in the 'RuleId' column with '0' since it represents a bot detection rule\n",
    "waf_logs_df['RuleId'] = waf_logs_df['RuleId'].fillna(0)"
   ]
  },
  {
   "cell_type": "code",
   "execution_count": 12,
   "metadata": {},
   "outputs": [],
   "source": [
    "# make RuleID column as int\n",
    "waf_logs_df['RuleId'] = waf_logs_df['RuleId'].astype(int)\n",
    "# make TimeGenerated [Local Time] column as datetime\n",
    "waf_logs_df['TimeGenerated [Local Time]'] = pd.to_datetime(waf_logs_df['TimeGenerated [Local Time]'])"
   ]
  },
  {
   "cell_type": "code",
   "execution_count": 13,
   "metadata": {},
   "outputs": [
    {
     "data": {
      "text/html": [
       "<div>\n",
       "<style scoped>\n",
       "    .dataframe tbody tr th:only-of-type {\n",
       "        vertical-align: middle;\n",
       "    }\n",
       "\n",
       "    .dataframe tbody tr th {\n",
       "        vertical-align: top;\n",
       "    }\n",
       "\n",
       "    .dataframe thead th {\n",
       "        text-align: right;\n",
       "    }\n",
       "</style>\n",
       "<table border=\"1\" class=\"dataframe\">\n",
       "  <thead>\n",
       "    <tr style=\"text-align: right;\">\n",
       "      <th></th>\n",
       "      <th>TenantId</th>\n",
       "      <th>TimeGenerated [Local Time]</th>\n",
       "      <th>OperationName</th>\n",
       "      <th>InstanceId</th>\n",
       "      <th>ClientIp</th>\n",
       "      <th>ClientPort</th>\n",
       "      <th>RequestUri</th>\n",
       "      <th>RuleSetType</th>\n",
       "      <th>RuleSetVersion</th>\n",
       "      <th>RuleId</th>\n",
       "      <th>...</th>\n",
       "      <th>Site</th>\n",
       "      <th>DetailedMessage</th>\n",
       "      <th>DetailedData</th>\n",
       "      <th>FileDetails</th>\n",
       "      <th>LineDetails</th>\n",
       "      <th>Hostname</th>\n",
       "      <th>TransactionId</th>\n",
       "      <th>SourceSystem</th>\n",
       "      <th>Type</th>\n",
       "      <th>_ResourceId</th>\n",
       "    </tr>\n",
       "  </thead>\n",
       "  <tbody>\n",
       "    <tr>\n",
       "      <th>0</th>\n",
       "      <td>1824ce35-604f-4dde-b17a-1f7b930e64ea</td>\n",
       "      <td>2024-05-05 10:06:21</td>\n",
       "      <td>ApplicationGatewayFirewall</td>\n",
       "      <td>appgw_1</td>\n",
       "      <td>78.153.140.177</td>\n",
       "      <td>NaN</td>\n",
       "      <td>/.env</td>\n",
       "      <td>OWASP CRS</td>\n",
       "      <td>3.2</td>\n",
       "      <td>930130</td>\n",
       "      <td>...</td>\n",
       "      <td>NaN</td>\n",
       "      <td>Pattern match from file restricted-files.data ...</td>\n",
       "      <td>{/.env found within [REQUEST_FILENAME:/.env]}</td>\n",
       "      <td>REQUEST-930-APPLICATION-ATTACK-LFI.conf</td>\n",
       "      <td>101.0</td>\n",
       "      <td>51.8.97.212</td>\n",
       "      <td>99827fb6dbff22921d1c141145d26cae</td>\n",
       "      <td>NaN</td>\n",
       "      <td>AGWFirewallLogs</td>\n",
       "      <td>/subscriptions/5b7f3410-4e34-46e3-b2c3-924befb...</td>\n",
       "    </tr>\n",
       "    <tr>\n",
       "      <th>1</th>\n",
       "      <td>1824ce35-604f-4dde-b17a-1f7b930e64ea</td>\n",
       "      <td>2024-05-05 10:06:21</td>\n",
       "      <td>ApplicationGatewayFirewall</td>\n",
       "      <td>appgw_1</td>\n",
       "      <td>78.153.140.177</td>\n",
       "      <td>NaN</td>\n",
       "      <td>/.env</td>\n",
       "      <td>OWASP CRS</td>\n",
       "      <td>3.2</td>\n",
       "      <td>949110</td>\n",
       "      <td>...</td>\n",
       "      <td>NaN</td>\n",
       "      <td>Greater and Equal to Tx:inbound_anomaly_score_...</td>\n",
       "      <td>NaN</td>\n",
       "      <td>REQUEST-949-BLOCKING-EVALUATION.conf</td>\n",
       "      <td>79.0</td>\n",
       "      <td>51.8.97.212</td>\n",
       "      <td>99827fb6dbff22921d1c141145d26cae</td>\n",
       "      <td>NaN</td>\n",
       "      <td>AGWFirewallLogs</td>\n",
       "      <td>/subscriptions/5b7f3410-4e34-46e3-b2c3-924befb...</td>\n",
       "    </tr>\n",
       "    <tr>\n",
       "      <th>2</th>\n",
       "      <td>1824ce35-604f-4dde-b17a-1f7b930e64ea</td>\n",
       "      <td>2024-05-05 12:14:57</td>\n",
       "      <td>ApplicationGatewayFirewall</td>\n",
       "      <td>appgw_1</td>\n",
       "      <td>162.243.133.47</td>\n",
       "      <td>NaN</td>\n",
       "      <td>/portal/redlion</td>\n",
       "      <td>OWASP CRS</td>\n",
       "      <td>3.2</td>\n",
       "      <td>913100</td>\n",
       "      <td>...</td>\n",
       "      <td>NaN</td>\n",
       "      <td>Pattern match from file scanners-user-agents.d...</td>\n",
       "      <td>{zgrab found within [REQUEST_HEADERS:User-Agen...</td>\n",
       "      <td>REQUEST-913-SCANNER-DETECTION.conf</td>\n",
       "      <td>33.0</td>\n",
       "      <td>51.8.97.212</td>\n",
       "      <td>f678686fb9cba31c9fc3730f92972823</td>\n",
       "      <td>NaN</td>\n",
       "      <td>AGWFirewallLogs</td>\n",
       "      <td>/subscriptions/5b7f3410-4e34-46e3-b2c3-924befb...</td>\n",
       "    </tr>\n",
       "    <tr>\n",
       "      <th>3</th>\n",
       "      <td>1824ce35-604f-4dde-b17a-1f7b930e64ea</td>\n",
       "      <td>2024-05-05 12:14:57</td>\n",
       "      <td>ApplicationGatewayFirewall</td>\n",
       "      <td>appgw_1</td>\n",
       "      <td>162.243.133.47</td>\n",
       "      <td>NaN</td>\n",
       "      <td>/portal/redlion</td>\n",
       "      <td>OWASP CRS</td>\n",
       "      <td>3.2</td>\n",
       "      <td>949110</td>\n",
       "      <td>...</td>\n",
       "      <td>NaN</td>\n",
       "      <td>Greater and Equal to Tx:inbound_anomaly_score_...</td>\n",
       "      <td>NaN</td>\n",
       "      <td>REQUEST-949-BLOCKING-EVALUATION.conf</td>\n",
       "      <td>79.0</td>\n",
       "      <td>51.8.97.212</td>\n",
       "      <td>f678686fb9cba31c9fc3730f92972823</td>\n",
       "      <td>NaN</td>\n",
       "      <td>AGWFirewallLogs</td>\n",
       "      <td>/subscriptions/5b7f3410-4e34-46e3-b2c3-924befb...</td>\n",
       "    </tr>\n",
       "    <tr>\n",
       "      <th>4</th>\n",
       "      <td>1824ce35-604f-4dde-b17a-1f7b930e64ea</td>\n",
       "      <td>2024-05-05 13:44:42</td>\n",
       "      <td>ApplicationGatewayFirewall</td>\n",
       "      <td>appgw_3</td>\n",
       "      <td>141.255.167.250</td>\n",
       "      <td>NaN</td>\n",
       "      <td>/cgi-bin/luci/;stok=/locale?form=country&amp;opera...</td>\n",
       "      <td>OWASP CRS</td>\n",
       "      <td>3.2</td>\n",
       "      <td>920300</td>\n",
       "      <td>...</td>\n",
       "      <td>NaN</td>\n",
       "      <td>Equal 0; Pattern match ^OPTIONS$; Pattern matc...</td>\n",
       "      <td>{ found within [REQUEST_HEADERS:0]} and { foun...</td>\n",
       "      <td>REQUEST-920-PROTOCOL-ENFORCEMENT.conf</td>\n",
       "      <td>1143.0</td>\n",
       "      <td>51.8.97.212:80</td>\n",
       "      <td>00240b50e60fdb61428e4ffa5b891cb3</td>\n",
       "      <td>NaN</td>\n",
       "      <td>AGWFirewallLogs</td>\n",
       "      <td>/subscriptions/5b7f3410-4e34-46e3-b2c3-924befb...</td>\n",
       "    </tr>\n",
       "  </tbody>\n",
       "</table>\n",
       "<p>5 rows × 22 columns</p>\n",
       "</div>"
      ],
      "text/plain": [
       "                               TenantId TimeGenerated [Local Time]  \\\n",
       "0  1824ce35-604f-4dde-b17a-1f7b930e64ea        2024-05-05 10:06:21   \n",
       "1  1824ce35-604f-4dde-b17a-1f7b930e64ea        2024-05-05 10:06:21   \n",
       "2  1824ce35-604f-4dde-b17a-1f7b930e64ea        2024-05-05 12:14:57   \n",
       "3  1824ce35-604f-4dde-b17a-1f7b930e64ea        2024-05-05 12:14:57   \n",
       "4  1824ce35-604f-4dde-b17a-1f7b930e64ea        2024-05-05 13:44:42   \n",
       "\n",
       "                OperationName InstanceId         ClientIp  ClientPort  \\\n",
       "0  ApplicationGatewayFirewall    appgw_1   78.153.140.177         NaN   \n",
       "1  ApplicationGatewayFirewall    appgw_1   78.153.140.177         NaN   \n",
       "2  ApplicationGatewayFirewall    appgw_1   162.243.133.47         NaN   \n",
       "3  ApplicationGatewayFirewall    appgw_1   162.243.133.47         NaN   \n",
       "4  ApplicationGatewayFirewall    appgw_3  141.255.167.250         NaN   \n",
       "\n",
       "                                          RequestUri RuleSetType  \\\n",
       "0                                              /.env   OWASP CRS   \n",
       "1                                              /.env   OWASP CRS   \n",
       "2                                    /portal/redlion   OWASP CRS   \n",
       "3                                    /portal/redlion   OWASP CRS   \n",
       "4  /cgi-bin/luci/;stok=/locale?form=country&opera...   OWASP CRS   \n",
       "\n",
       "   RuleSetVersion  RuleId  ... Site  \\\n",
       "0             3.2  930130  ...  NaN   \n",
       "1             3.2  949110  ...  NaN   \n",
       "2             3.2  913100  ...  NaN   \n",
       "3             3.2  949110  ...  NaN   \n",
       "4             3.2  920300  ...  NaN   \n",
       "\n",
       "                                     DetailedMessage  \\\n",
       "0  Pattern match from file restricted-files.data ...   \n",
       "1  Greater and Equal to Tx:inbound_anomaly_score_...   \n",
       "2  Pattern match from file scanners-user-agents.d...   \n",
       "3  Greater and Equal to Tx:inbound_anomaly_score_...   \n",
       "4  Equal 0; Pattern match ^OPTIONS$; Pattern matc...   \n",
       "\n",
       "                                        DetailedData  \\\n",
       "0      {/.env found within [REQUEST_FILENAME:/.env]}   \n",
       "1                                                NaN   \n",
       "2  {zgrab found within [REQUEST_HEADERS:User-Agen...   \n",
       "3                                                NaN   \n",
       "4  { found within [REQUEST_HEADERS:0]} and { foun...   \n",
       "\n",
       "                               FileDetails LineDetails        Hostname  \\\n",
       "0  REQUEST-930-APPLICATION-ATTACK-LFI.conf       101.0     51.8.97.212   \n",
       "1     REQUEST-949-BLOCKING-EVALUATION.conf        79.0     51.8.97.212   \n",
       "2       REQUEST-913-SCANNER-DETECTION.conf        33.0     51.8.97.212   \n",
       "3     REQUEST-949-BLOCKING-EVALUATION.conf        79.0     51.8.97.212   \n",
       "4    REQUEST-920-PROTOCOL-ENFORCEMENT.conf      1143.0  51.8.97.212:80   \n",
       "\n",
       "                      TransactionId SourceSystem             Type  \\\n",
       "0  99827fb6dbff22921d1c141145d26cae          NaN  AGWFirewallLogs   \n",
       "1  99827fb6dbff22921d1c141145d26cae          NaN  AGWFirewallLogs   \n",
       "2  f678686fb9cba31c9fc3730f92972823          NaN  AGWFirewallLogs   \n",
       "3  f678686fb9cba31c9fc3730f92972823          NaN  AGWFirewallLogs   \n",
       "4  00240b50e60fdb61428e4ffa5b891cb3          NaN  AGWFirewallLogs   \n",
       "\n",
       "                                         _ResourceId  \n",
       "0  /subscriptions/5b7f3410-4e34-46e3-b2c3-924befb...  \n",
       "1  /subscriptions/5b7f3410-4e34-46e3-b2c3-924befb...  \n",
       "2  /subscriptions/5b7f3410-4e34-46e3-b2c3-924befb...  \n",
       "3  /subscriptions/5b7f3410-4e34-46e3-b2c3-924befb...  \n",
       "4  /subscriptions/5b7f3410-4e34-46e3-b2c3-924befb...  \n",
       "\n",
       "[5 rows x 22 columns]"
      ]
     },
     "execution_count": 13,
     "metadata": {},
     "output_type": "execute_result"
    }
   ],
   "source": [
    "waf_logs_df.head()"
   ]
  },
  {
   "cell_type": "code",
   "execution_count": 14,
   "metadata": {},
   "outputs": [],
   "source": [
    "# add columns Description and Status to the waf_logs_df DataFrame by joining matching RuleId values\n",
    "waf_logs_df = waf_logs_df.merge(rules_df[['RuleId', 'Description', 'Status']], left_on='RuleId', right_on='RuleId', how='left')"
   ]
  },
  {
   "cell_type": "code",
   "execution_count": 15,
   "metadata": {},
   "outputs": [
    {
     "name": "stdout",
     "output_type": "stream",
     "text": [
      "<class 'pandas.core.frame.DataFrame'>\n",
      "RangeIndex: 1585 entries, 0 to 1584\n",
      "Data columns (total 24 columns):\n",
      " #   Column                      Non-Null Count  Dtype         \n",
      "---  ------                      --------------  -----         \n",
      " 0   TenantId                    1585 non-null   object        \n",
      " 1   TimeGenerated [Local Time]  1585 non-null   datetime64[ns]\n",
      " 2   OperationName               1585 non-null   object        \n",
      " 3   InstanceId                  1585 non-null   object        \n",
      " 4   ClientIp                    1585 non-null   object        \n",
      " 5   ClientPort                  0 non-null      float64       \n",
      " 6   RequestUri                  1585 non-null   object        \n",
      " 7   RuleSetType                 1585 non-null   object        \n",
      " 8   RuleSetVersion              1418 non-null   float64       \n",
      " 9   RuleId                      1585 non-null   int64         \n",
      " 10  Message                     1585 non-null   object        \n",
      " 11  Action                      1585 non-null   object        \n",
      " 12  Site                        0 non-null      float64       \n",
      " 13  DetailedMessage             1418 non-null   object        \n",
      " 14  DetailedData                1062 non-null   object        \n",
      " 15  FileDetails                 1418 non-null   object        \n",
      " 16  LineDetails                 1418 non-null   float64       \n",
      " 17  Hostname                    817 non-null    object        \n",
      " 18  TransactionId               1585 non-null   object        \n",
      " 19  SourceSystem                0 non-null      float64       \n",
      " 20  Type                        1585 non-null   object        \n",
      " 21  _ResourceId                 1585 non-null   object        \n",
      " 22  Description                 1062 non-null   object        \n",
      " 23  Status                      1062 non-null   object        \n",
      "dtypes: datetime64[ns](1), float64(5), int64(1), object(17)\n",
      "memory usage: 297.3+ KB\n"
     ]
    }
   ],
   "source": [
    "waf_logs_df.info()"
   ]
  },
  {
   "cell_type": "code",
   "execution_count": 16,
   "metadata": {},
   "outputs": [],
   "source": [
    "# Set description to 'Microsoft Bot Detection' where RuleId is 0\n",
    "waf_logs_df.loc[waf_logs_df['RuleId'] == 0, 'Description'] = 'Microsoft Bot Detection'"
   ]
  },
  {
   "cell_type": "code",
   "execution_count": 17,
   "metadata": {},
   "outputs": [
    {
     "name": "stdout",
     "output_type": "stream",
     "text": [
      "<class 'pandas.core.frame.DataFrame'>\n",
      "RangeIndex: 1585 entries, 0 to 1584\n",
      "Data columns (total 24 columns):\n",
      " #   Column                      Non-Null Count  Dtype         \n",
      "---  ------                      --------------  -----         \n",
      " 0   TenantId                    1585 non-null   object        \n",
      " 1   TimeGenerated [Local Time]  1585 non-null   datetime64[ns]\n",
      " 2   OperationName               1585 non-null   object        \n",
      " 3   InstanceId                  1585 non-null   object        \n",
      " 4   ClientIp                    1585 non-null   object        \n",
      " 5   ClientPort                  0 non-null      float64       \n",
      " 6   RequestUri                  1585 non-null   object        \n",
      " 7   RuleSetType                 1585 non-null   object        \n",
      " 8   RuleSetVersion              1418 non-null   float64       \n",
      " 9   RuleId                      1585 non-null   int64         \n",
      " 10  Message                     1585 non-null   object        \n",
      " 11  Action                      1585 non-null   object        \n",
      " 12  Site                        0 non-null      float64       \n",
      " 13  DetailedMessage             1418 non-null   object        \n",
      " 14  DetailedData                1062 non-null   object        \n",
      " 15  FileDetails                 1418 non-null   object        \n",
      " 16  LineDetails                 1418 non-null   float64       \n",
      " 17  Hostname                    817 non-null    object        \n",
      " 18  TransactionId               1585 non-null   object        \n",
      " 19  SourceSystem                0 non-null      float64       \n",
      " 20  Type                        1585 non-null   object        \n",
      " 21  _ResourceId                 1585 non-null   object        \n",
      " 22  Description                 1229 non-null   object        \n",
      " 23  Status                      1062 non-null   object        \n",
      "dtypes: datetime64[ns](1), float64(5), int64(1), object(17)\n",
      "memory usage: 297.3+ KB\n"
     ]
    }
   ],
   "source": [
    "waf_logs_df.info()"
   ]
  },
  {
   "cell_type": "code",
   "execution_count": 18,
   "metadata": {},
   "outputs": [
    {
     "data": {
      "text/html": [
       "<div>\n",
       "<style scoped>\n",
       "    .dataframe tbody tr th:only-of-type {\n",
       "        vertical-align: middle;\n",
       "    }\n",
       "\n",
       "    .dataframe tbody tr th {\n",
       "        vertical-align: top;\n",
       "    }\n",
       "\n",
       "    .dataframe thead th {\n",
       "        text-align: right;\n",
       "    }\n",
       "</style>\n",
       "<table border=\"1\" class=\"dataframe\">\n",
       "  <thead>\n",
       "    <tr style=\"text-align: right;\">\n",
       "      <th></th>\n",
       "      <th>RuleId</th>\n",
       "      <th>Description</th>\n",
       "      <th>Message</th>\n",
       "      <th>Action</th>\n",
       "    </tr>\n",
       "  </thead>\n",
       "  <tbody>\n",
       "    <tr>\n",
       "      <th>1</th>\n",
       "      <td>949110</td>\n",
       "      <td>NaN</td>\n",
       "      <td>Inbound Anomaly Score Exceeded (Total Score: 5)</td>\n",
       "      <td>Blocked</td>\n",
       "    </tr>\n",
       "    <tr>\n",
       "      <th>3</th>\n",
       "      <td>949110</td>\n",
       "      <td>NaN</td>\n",
       "      <td>Inbound Anomaly Score Exceeded (Total Score: 5)</td>\n",
       "      <td>Blocked</td>\n",
       "    </tr>\n",
       "    <tr>\n",
       "      <th>9</th>\n",
       "      <td>949110</td>\n",
       "      <td>NaN</td>\n",
       "      <td>Inbound Anomaly Score Exceeded (Total Score: 22)</td>\n",
       "      <td>Blocked</td>\n",
       "    </tr>\n",
       "    <tr>\n",
       "      <th>12</th>\n",
       "      <td>949110</td>\n",
       "      <td>NaN</td>\n",
       "      <td>Inbound Anomaly Score Exceeded (Total Score: 8)</td>\n",
       "      <td>Blocked</td>\n",
       "    </tr>\n",
       "    <tr>\n",
       "      <th>14</th>\n",
       "      <td>949110</td>\n",
       "      <td>NaN</td>\n",
       "      <td>Inbound Anomaly Score Exceeded (Total Score: 5)</td>\n",
       "      <td>Blocked</td>\n",
       "    </tr>\n",
       "    <tr>\n",
       "      <th>...</th>\n",
       "      <td>...</td>\n",
       "      <td>...</td>\n",
       "      <td>...</td>\n",
       "      <td>...</td>\n",
       "    </tr>\n",
       "    <tr>\n",
       "      <th>1562</th>\n",
       "      <td>949110</td>\n",
       "      <td>NaN</td>\n",
       "      <td>Inbound Anomaly Score Exceeded (Total Score: 5)</td>\n",
       "      <td>Blocked</td>\n",
       "    </tr>\n",
       "    <tr>\n",
       "      <th>1567</th>\n",
       "      <td>949110</td>\n",
       "      <td>NaN</td>\n",
       "      <td>Inbound Anomaly Score Exceeded (Total Score: 30)</td>\n",
       "      <td>Blocked</td>\n",
       "    </tr>\n",
       "    <tr>\n",
       "      <th>1573</th>\n",
       "      <td>949110</td>\n",
       "      <td>NaN</td>\n",
       "      <td>Inbound Anomaly Score Exceeded (Total Score: 15)</td>\n",
       "      <td>Blocked</td>\n",
       "    </tr>\n",
       "    <tr>\n",
       "      <th>1577</th>\n",
       "      <td>949110</td>\n",
       "      <td>NaN</td>\n",
       "      <td>Inbound Anomaly Score Exceeded (Total Score: 10)</td>\n",
       "      <td>Blocked</td>\n",
       "    </tr>\n",
       "    <tr>\n",
       "      <th>1580</th>\n",
       "      <td>949110</td>\n",
       "      <td>NaN</td>\n",
       "      <td>Inbound Anomaly Score Exceeded (Total Score: 30)</td>\n",
       "      <td>Blocked</td>\n",
       "    </tr>\n",
       "  </tbody>\n",
       "</table>\n",
       "<p>356 rows × 4 columns</p>\n",
       "</div>"
      ],
      "text/plain": [
       "      RuleId Description                                           Message  \\\n",
       "1     949110         NaN   Inbound Anomaly Score Exceeded (Total Score: 5)   \n",
       "3     949110         NaN   Inbound Anomaly Score Exceeded (Total Score: 5)   \n",
       "9     949110         NaN  Inbound Anomaly Score Exceeded (Total Score: 22)   \n",
       "12    949110         NaN   Inbound Anomaly Score Exceeded (Total Score: 8)   \n",
       "14    949110         NaN   Inbound Anomaly Score Exceeded (Total Score: 5)   \n",
       "...      ...         ...                                               ...   \n",
       "1562  949110         NaN   Inbound Anomaly Score Exceeded (Total Score: 5)   \n",
       "1567  949110         NaN  Inbound Anomaly Score Exceeded (Total Score: 30)   \n",
       "1573  949110         NaN  Inbound Anomaly Score Exceeded (Total Score: 15)   \n",
       "1577  949110         NaN  Inbound Anomaly Score Exceeded (Total Score: 10)   \n",
       "1580  949110         NaN  Inbound Anomaly Score Exceeded (Total Score: 30)   \n",
       "\n",
       "       Action  \n",
       "1     Blocked  \n",
       "3     Blocked  \n",
       "9     Blocked  \n",
       "12    Blocked  \n",
       "14    Blocked  \n",
       "...       ...  \n",
       "1562  Blocked  \n",
       "1567  Blocked  \n",
       "1573  Blocked  \n",
       "1577  Blocked  \n",
       "1580  Blocked  \n",
       "\n",
       "[356 rows x 4 columns]"
      ]
     },
     "execution_count": 18,
     "metadata": {},
     "output_type": "execute_result"
    }
   ],
   "source": [
    "# rows with missing Description\n",
    "waf_logs_df[waf_logs_df['Description'].isnull()][['RuleId', 'Description', 'Message', 'Action']]"
   ]
  },
  {
   "cell_type": "code",
   "execution_count": 19,
   "metadata": {},
   "outputs": [
    {
     "data": {
      "text/plain": [
       "RuleId\n",
       "949110    356\n",
       "Name: count, dtype: int64"
      ]
     },
     "execution_count": 19,
     "metadata": {},
     "output_type": "execute_result"
    }
   ],
   "source": [
    "waf_logs_df[waf_logs_df['Description'].isnull()]['RuleId'].value_counts()"
   ]
  },
  {
   "cell_type": "code",
   "execution_count": 20,
   "metadata": {},
   "outputs": [
    {
     "data": {
      "text/plain": [
       "Action\n",
       "Blocked     314\n",
       "Detected     42\n",
       "Name: count, dtype: int64"
      ]
     },
     "execution_count": 20,
     "metadata": {},
     "output_type": "execute_result"
    }
   ],
   "source": [
    "waf_logs_df[waf_logs_df['Description'].isnull()]['Action'].value_counts()"
   ]
  },
  {
   "cell_type": "code",
   "execution_count": 21,
   "metadata": {},
   "outputs": [
    {
     "data": {
      "text/plain": [
       "356"
      ]
     },
     "execution_count": 21,
     "metadata": {},
     "output_type": "execute_result"
    }
   ],
   "source": [
    "waf_logs_df[waf_logs_df['Description'].isnull()]['Message'].str.contains('Score', case=False, na=False).shape[0]"
   ]
  },
  {
   "cell_type": "code",
   "execution_count": 22,
   "metadata": {},
   "outputs": [],
   "source": [
    "# Set description to 'Anomaly Score' where RuleId is 949110 since all the Messages contains Anomaly Score info\n",
    "waf_logs_df.loc[waf_logs_df['RuleId'] == 949110, 'Description'] = 'Anomaly Score'"
   ]
  },
  {
   "cell_type": "code",
   "execution_count": 23,
   "metadata": {},
   "outputs": [
    {
     "name": "stdout",
     "output_type": "stream",
     "text": [
      "<class 'pandas.core.frame.DataFrame'>\n",
      "RangeIndex: 1585 entries, 0 to 1584\n",
      "Data columns (total 24 columns):\n",
      " #   Column                      Non-Null Count  Dtype         \n",
      "---  ------                      --------------  -----         \n",
      " 0   TenantId                    1585 non-null   object        \n",
      " 1   TimeGenerated [Local Time]  1585 non-null   datetime64[ns]\n",
      " 2   OperationName               1585 non-null   object        \n",
      " 3   InstanceId                  1585 non-null   object        \n",
      " 4   ClientIp                    1585 non-null   object        \n",
      " 5   ClientPort                  0 non-null      float64       \n",
      " 6   RequestUri                  1585 non-null   object        \n",
      " 7   RuleSetType                 1585 non-null   object        \n",
      " 8   RuleSetVersion              1418 non-null   float64       \n",
      " 9   RuleId                      1585 non-null   int64         \n",
      " 10  Message                     1585 non-null   object        \n",
      " 11  Action                      1585 non-null   object        \n",
      " 12  Site                        0 non-null      float64       \n",
      " 13  DetailedMessage             1418 non-null   object        \n",
      " 14  DetailedData                1062 non-null   object        \n",
      " 15  FileDetails                 1418 non-null   object        \n",
      " 16  LineDetails                 1418 non-null   float64       \n",
      " 17  Hostname                    817 non-null    object        \n",
      " 18  TransactionId               1585 non-null   object        \n",
      " 19  SourceSystem                0 non-null      float64       \n",
      " 20  Type                        1585 non-null   object        \n",
      " 21  _ResourceId                 1585 non-null   object        \n",
      " 22  Description                 1585 non-null   object        \n",
      " 23  Status                      1062 non-null   object        \n",
      "dtypes: datetime64[ns](1), float64(5), int64(1), object(17)\n",
      "memory usage: 297.3+ KB\n"
     ]
    }
   ],
   "source": [
    "waf_logs_df.info()"
   ]
  },
  {
   "cell_type": "code",
   "execution_count": 24,
   "metadata": {},
   "outputs": [
    {
     "data": {
      "text/html": [
       "<div>\n",
       "<style scoped>\n",
       "    .dataframe tbody tr th:only-of-type {\n",
       "        vertical-align: middle;\n",
       "    }\n",
       "\n",
       "    .dataframe tbody tr th {\n",
       "        vertical-align: top;\n",
       "    }\n",
       "\n",
       "    .dataframe thead th {\n",
       "        text-align: right;\n",
       "    }\n",
       "</style>\n",
       "<table border=\"1\" class=\"dataframe\">\n",
       "  <thead>\n",
       "    <tr style=\"text-align: right;\">\n",
       "      <th></th>\n",
       "      <th>TenantId</th>\n",
       "      <th>TimeGenerated [Local Time]</th>\n",
       "      <th>OperationName</th>\n",
       "      <th>InstanceId</th>\n",
       "      <th>ClientIp</th>\n",
       "      <th>ClientPort</th>\n",
       "      <th>RequestUri</th>\n",
       "      <th>RuleSetType</th>\n",
       "      <th>RuleSetVersion</th>\n",
       "      <th>RuleId</th>\n",
       "      <th>...</th>\n",
       "      <th>DetailedData</th>\n",
       "      <th>FileDetails</th>\n",
       "      <th>LineDetails</th>\n",
       "      <th>Hostname</th>\n",
       "      <th>TransactionId</th>\n",
       "      <th>SourceSystem</th>\n",
       "      <th>Type</th>\n",
       "      <th>_ResourceId</th>\n",
       "      <th>Description</th>\n",
       "      <th>Status</th>\n",
       "    </tr>\n",
       "  </thead>\n",
       "  <tbody>\n",
       "    <tr>\n",
       "      <th>0</th>\n",
       "      <td>1824ce35-604f-4dde-b17a-1f7b930e64ea</td>\n",
       "      <td>2024-05-05 10:06:21</td>\n",
       "      <td>ApplicationGatewayFirewall</td>\n",
       "      <td>appgw_1</td>\n",
       "      <td>78.153.140.177</td>\n",
       "      <td>NaN</td>\n",
       "      <td>/.env</td>\n",
       "      <td>OWASP CRS</td>\n",
       "      <td>3.2</td>\n",
       "      <td>930130</td>\n",
       "      <td>...</td>\n",
       "      <td>{/.env found within [REQUEST_FILENAME:/.env]}</td>\n",
       "      <td>REQUEST-930-APPLICATION-ATTACK-LFI.conf</td>\n",
       "      <td>101.0</td>\n",
       "      <td>51.8.97.212</td>\n",
       "      <td>99827fb6dbff22921d1c141145d26cae</td>\n",
       "      <td>NaN</td>\n",
       "      <td>AGWFirewallLogs</td>\n",
       "      <td>/subscriptions/5b7f3410-4e34-46e3-b2c3-924befb...</td>\n",
       "      <td>Restricted File Access Attempt</td>\n",
       "      <td>Enabled</td>\n",
       "    </tr>\n",
       "    <tr>\n",
       "      <th>1</th>\n",
       "      <td>1824ce35-604f-4dde-b17a-1f7b930e64ea</td>\n",
       "      <td>2024-05-05 10:06:21</td>\n",
       "      <td>ApplicationGatewayFirewall</td>\n",
       "      <td>appgw_1</td>\n",
       "      <td>78.153.140.177</td>\n",
       "      <td>NaN</td>\n",
       "      <td>/.env</td>\n",
       "      <td>OWASP CRS</td>\n",
       "      <td>3.2</td>\n",
       "      <td>949110</td>\n",
       "      <td>...</td>\n",
       "      <td>NaN</td>\n",
       "      <td>REQUEST-949-BLOCKING-EVALUATION.conf</td>\n",
       "      <td>79.0</td>\n",
       "      <td>51.8.97.212</td>\n",
       "      <td>99827fb6dbff22921d1c141145d26cae</td>\n",
       "      <td>NaN</td>\n",
       "      <td>AGWFirewallLogs</td>\n",
       "      <td>/subscriptions/5b7f3410-4e34-46e3-b2c3-924befb...</td>\n",
       "      <td>Anomaly Score</td>\n",
       "      <td>NaN</td>\n",
       "    </tr>\n",
       "    <tr>\n",
       "      <th>2</th>\n",
       "      <td>1824ce35-604f-4dde-b17a-1f7b930e64ea</td>\n",
       "      <td>2024-05-05 12:14:57</td>\n",
       "      <td>ApplicationGatewayFirewall</td>\n",
       "      <td>appgw_1</td>\n",
       "      <td>162.243.133.47</td>\n",
       "      <td>NaN</td>\n",
       "      <td>/portal/redlion</td>\n",
       "      <td>OWASP CRS</td>\n",
       "      <td>3.2</td>\n",
       "      <td>913100</td>\n",
       "      <td>...</td>\n",
       "      <td>{zgrab found within [REQUEST_HEADERS:User-Agen...</td>\n",
       "      <td>REQUEST-913-SCANNER-DETECTION.conf</td>\n",
       "      <td>33.0</td>\n",
       "      <td>51.8.97.212</td>\n",
       "      <td>f678686fb9cba31c9fc3730f92972823</td>\n",
       "      <td>NaN</td>\n",
       "      <td>AGWFirewallLogs</td>\n",
       "      <td>/subscriptions/5b7f3410-4e34-46e3-b2c3-924befb...</td>\n",
       "      <td>Found User-Agent associated                   ...</td>\n",
       "      <td>Enabled</td>\n",
       "    </tr>\n",
       "    <tr>\n",
       "      <th>3</th>\n",
       "      <td>1824ce35-604f-4dde-b17a-1f7b930e64ea</td>\n",
       "      <td>2024-05-05 12:14:57</td>\n",
       "      <td>ApplicationGatewayFirewall</td>\n",
       "      <td>appgw_1</td>\n",
       "      <td>162.243.133.47</td>\n",
       "      <td>NaN</td>\n",
       "      <td>/portal/redlion</td>\n",
       "      <td>OWASP CRS</td>\n",
       "      <td>3.2</td>\n",
       "      <td>949110</td>\n",
       "      <td>...</td>\n",
       "      <td>NaN</td>\n",
       "      <td>REQUEST-949-BLOCKING-EVALUATION.conf</td>\n",
       "      <td>79.0</td>\n",
       "      <td>51.8.97.212</td>\n",
       "      <td>f678686fb9cba31c9fc3730f92972823</td>\n",
       "      <td>NaN</td>\n",
       "      <td>AGWFirewallLogs</td>\n",
       "      <td>/subscriptions/5b7f3410-4e34-46e3-b2c3-924befb...</td>\n",
       "      <td>Anomaly Score</td>\n",
       "      <td>NaN</td>\n",
       "    </tr>\n",
       "    <tr>\n",
       "      <th>4</th>\n",
       "      <td>1824ce35-604f-4dde-b17a-1f7b930e64ea</td>\n",
       "      <td>2024-05-05 13:44:42</td>\n",
       "      <td>ApplicationGatewayFirewall</td>\n",
       "      <td>appgw_3</td>\n",
       "      <td>141.255.167.250</td>\n",
       "      <td>NaN</td>\n",
       "      <td>/cgi-bin/luci/;stok=/locale?form=country&amp;opera...</td>\n",
       "      <td>OWASP CRS</td>\n",
       "      <td>3.2</td>\n",
       "      <td>920300</td>\n",
       "      <td>...</td>\n",
       "      <td>{ found within [REQUEST_HEADERS:0]} and { foun...</td>\n",
       "      <td>REQUEST-920-PROTOCOL-ENFORCEMENT.conf</td>\n",
       "      <td>1143.0</td>\n",
       "      <td>51.8.97.212:80</td>\n",
       "      <td>00240b50e60fdb61428e4ffa5b891cb3</td>\n",
       "      <td>NaN</td>\n",
       "      <td>AGWFirewallLogs</td>\n",
       "      <td>/subscriptions/5b7f3410-4e34-46e3-b2c3-924befb...</td>\n",
       "      <td>Request Missing an Accept                     ...</td>\n",
       "      <td>Enabled</td>\n",
       "    </tr>\n",
       "  </tbody>\n",
       "</table>\n",
       "<p>5 rows × 24 columns</p>\n",
       "</div>"
      ],
      "text/plain": [
       "                               TenantId TimeGenerated [Local Time]  \\\n",
       "0  1824ce35-604f-4dde-b17a-1f7b930e64ea        2024-05-05 10:06:21   \n",
       "1  1824ce35-604f-4dde-b17a-1f7b930e64ea        2024-05-05 10:06:21   \n",
       "2  1824ce35-604f-4dde-b17a-1f7b930e64ea        2024-05-05 12:14:57   \n",
       "3  1824ce35-604f-4dde-b17a-1f7b930e64ea        2024-05-05 12:14:57   \n",
       "4  1824ce35-604f-4dde-b17a-1f7b930e64ea        2024-05-05 13:44:42   \n",
       "\n",
       "                OperationName InstanceId         ClientIp  ClientPort  \\\n",
       "0  ApplicationGatewayFirewall    appgw_1   78.153.140.177         NaN   \n",
       "1  ApplicationGatewayFirewall    appgw_1   78.153.140.177         NaN   \n",
       "2  ApplicationGatewayFirewall    appgw_1   162.243.133.47         NaN   \n",
       "3  ApplicationGatewayFirewall    appgw_1   162.243.133.47         NaN   \n",
       "4  ApplicationGatewayFirewall    appgw_3  141.255.167.250         NaN   \n",
       "\n",
       "                                          RequestUri RuleSetType  \\\n",
       "0                                              /.env   OWASP CRS   \n",
       "1                                              /.env   OWASP CRS   \n",
       "2                                    /portal/redlion   OWASP CRS   \n",
       "3                                    /portal/redlion   OWASP CRS   \n",
       "4  /cgi-bin/luci/;stok=/locale?form=country&opera...   OWASP CRS   \n",
       "\n",
       "   RuleSetVersion  RuleId  ...  \\\n",
       "0             3.2  930130  ...   \n",
       "1             3.2  949110  ...   \n",
       "2             3.2  913100  ...   \n",
       "3             3.2  949110  ...   \n",
       "4             3.2  920300  ...   \n",
       "\n",
       "                                        DetailedData  \\\n",
       "0      {/.env found within [REQUEST_FILENAME:/.env]}   \n",
       "1                                                NaN   \n",
       "2  {zgrab found within [REQUEST_HEADERS:User-Agen...   \n",
       "3                                                NaN   \n",
       "4  { found within [REQUEST_HEADERS:0]} and { foun...   \n",
       "\n",
       "                               FileDetails  LineDetails        Hostname  \\\n",
       "0  REQUEST-930-APPLICATION-ATTACK-LFI.conf        101.0     51.8.97.212   \n",
       "1     REQUEST-949-BLOCKING-EVALUATION.conf         79.0     51.8.97.212   \n",
       "2       REQUEST-913-SCANNER-DETECTION.conf         33.0     51.8.97.212   \n",
       "3     REQUEST-949-BLOCKING-EVALUATION.conf         79.0     51.8.97.212   \n",
       "4    REQUEST-920-PROTOCOL-ENFORCEMENT.conf       1143.0  51.8.97.212:80   \n",
       "\n",
       "                      TransactionId SourceSystem             Type  \\\n",
       "0  99827fb6dbff22921d1c141145d26cae          NaN  AGWFirewallLogs   \n",
       "1  99827fb6dbff22921d1c141145d26cae          NaN  AGWFirewallLogs   \n",
       "2  f678686fb9cba31c9fc3730f92972823          NaN  AGWFirewallLogs   \n",
       "3  f678686fb9cba31c9fc3730f92972823          NaN  AGWFirewallLogs   \n",
       "4  00240b50e60fdb61428e4ffa5b891cb3          NaN  AGWFirewallLogs   \n",
       "\n",
       "                                         _ResourceId  \\\n",
       "0  /subscriptions/5b7f3410-4e34-46e3-b2c3-924befb...   \n",
       "1  /subscriptions/5b7f3410-4e34-46e3-b2c3-924befb...   \n",
       "2  /subscriptions/5b7f3410-4e34-46e3-b2c3-924befb...   \n",
       "3  /subscriptions/5b7f3410-4e34-46e3-b2c3-924befb...   \n",
       "4  /subscriptions/5b7f3410-4e34-46e3-b2c3-924befb...   \n",
       "\n",
       "                                         Description   Status  \n",
       "0                     Restricted File Access Attempt  Enabled  \n",
       "1                                      Anomaly Score      NaN  \n",
       "2  Found User-Agent associated                   ...  Enabled  \n",
       "3                                      Anomaly Score      NaN  \n",
       "4  Request Missing an Accept                     ...  Enabled  \n",
       "\n",
       "[5 rows x 24 columns]"
      ]
     },
     "execution_count": 24,
     "metadata": {},
     "output_type": "execute_result"
    }
   ],
   "source": [
    "waf_logs_df.head()"
   ]
  },
  {
   "cell_type": "code",
   "execution_count": 25,
   "metadata": {},
   "outputs": [],
   "source": [
    "# Replace the \"                                \" with \" \" in the Description column\n",
    "waf_logs_df['Description'] = waf_logs_df['Description'].str.replace(\"                                \", \" \")"
   ]
  },
  {
   "cell_type": "code",
   "execution_count": 26,
   "metadata": {},
   "outputs": [],
   "source": [
    "# Save the updated DataFrame to a CSV file\n",
    "waf_logs_df.to_csv('waf-gateway-logs-cleaned.csv', index=False)"
   ]
  },
  {
   "cell_type": "code",
   "execution_count": 27,
   "metadata": {},
   "outputs": [],
   "source": [
    "# Read the CSV file\n",
    "#waf_logs_df = pd.read_csv('waf-gateway-logs-cleaned.csv')"
   ]
  },
  {
   "cell_type": "markdown",
   "metadata": {},
   "source": [
    "### WAF logs analysis"
   ]
  },
  {
   "cell_type": "code",
   "execution_count": 33,
   "metadata": {},
   "outputs": [
    {
     "data": {
      "image/png": "[encoded data removed]",
      "text/plain": [
       "<Figure size 640x480 with 1 Axes>"
      ]
     },
     "metadata": {},
     "output_type": "display_data"
    }
   ],
   "source": [
    "# plot bot attacks per hour (grouping the TimeGenerated [Local Time] column by hour and counting the number of bot attacks)\n",
    "import matplotlib.pyplot as plt\n",
    "\n",
    "waf_logs_df[waf_logs_df['Description'].str.contains('bot', case=False, na=False)].groupby(waf_logs_df['TimeGenerated [Local Time]'].dt.hour)['Description'].count().plot(kind='bar', color='skyblue')\n",
    "plt.xlabel('Hour of the Day')\n",
    "plt.ylabel('Number of Bot Attacks')\n",
    "plt.title('Bot Attacks per Hour')\n",
    "plt.show()"
   ]
  },
  {
   "cell_type": "code",
   "execution_count": 34,
   "metadata": {},
   "outputs": [
    {
     "data": {
      "image/png": "[encoded data removed]",
      "text/plain": [
       "<Figure size 640x480 with 1 Axes>"
      ]
     },
     "metadata": {},
     "output_type": "display_data"
    }
   ],
   "source": [
    "# same plot but per day\n",
    "waf_logs_df[waf_logs_df['Description'].str.contains('bot', case=False, na=False)].groupby(waf_logs_df['TimeGenerated [Local Time]'].dt.date)['Description'].count().plot(kind='bar', color='skyblue')\n",
    "plt.xlabel('Day of the Month')\n",
    "plt.ylabel('Number of Bot Attacks')\n",
    "plt.title('Bot Attacks per Day')\n",
    "plt.show()"
   ]
  },
  {
   "cell_type": "code",
   "execution_count": 30,
   "metadata": {},
   "outputs": [
    {
     "data": {
      "image/png": "[encoded data removed]",
      "text/plain": [
       "<Figure size 640x480 with 1 Axes>"
      ]
     },
     "metadata": {},
     "output_type": "display_data"
    }
   ],
   "source": [
    "\n",
    "waf_logs_df[waf_logs_df['RuleSetType']=='OWASP CRS'].groupby(waf_logs_df['TimeGenerated [Local Time]'].dt.date)['Description'].count().plot(kind='bar', color='skyblue')\n",
    "plt.xlabel('Day of the Month')\n",
    "plt.ylabel('Number of Attacks')\n",
    "plt.title('OWASP CRS Attacks per Day')\n",
    "plt.show()"
   ]
  },
  {
   "cell_type": "code",
   "execution_count": 31,
   "metadata": {},
   "outputs": [
    {
     "data": {
      "text/plain": [
       "Text(0.5, 1.0, 'Top 5 OWASP CRS Attacks per Day')"
      ]
     },
     "execution_count": 31,
     "metadata": {},
     "output_type": "execute_result"
    },
    {
     "data": {
      "image/png": "[encoded data removed]",
      "text/plain": [
       "<Figure size 640x480 with 1 Axes>"
      ]
     },
     "metadata": {},
     "output_type": "display_data"
    }
   ],
   "source": [
    "waf_OWASP_CRS = waf_logs_df[waf_logs_df['RuleSetType']=='OWASP CRS']\n",
    "waf_OWASP_CRS['Description'].value_counts()\n",
    "# extract the top 5 attacks from OWASP CRS\n",
    "top_5_OWASP_CRS_attacks = waf_OWASP_CRS['Description'].value_counts().head(5)\n",
    "# filter the waf_OWASP_CRS DataFrame to include only the top 5 attacks\n",
    "waf_OWASP_CRS = waf_OWASP_CRS[waf_OWASP_CRS['Description'].isin(top_5_OWASP_CRS_attacks.index)]\n",
    "#plot the  attacks per day\n",
    "waf_OWASP_CRS.groupby([waf_OWASP_CRS['TimeGenerated [Local Time]'].dt.date, waf_OWASP_CRS['Description']])['Description'].count().unstack().plot(kind='bar', stacked=True)\n",
    "plt.xlabel('Day of the Month')\n",
    "plt.ylabel('Number of Attacks')\n",
    "plt.title('Top 5 OWASP CRS Attacks per Day')\n"
   ]
  },
  {
   "cell_type": "code",
   "execution_count": 32,
   "metadata": {},
   "outputs": [
    {
     "data": {
      "text/plain": [
       "Text(0.5, 1.0, 'Top 5 OWASP CRS Attacks per Hour')"
      ]
     },
     "execution_count": 32,
     "metadata": {},
     "output_type": "execute_result"
    },
    {
     "data": {
      "image/png": "[encoded data removed]",
      "text/plain": [
       "<Figure size 640x480 with 1 Axes>"
      ]
     },
     "metadata": {},
     "output_type": "display_data"
    }
   ],
   "source": [
    "#plot the  attacks per hour\n",
    "waf_OWASP_CRS.groupby([waf_OWASP_CRS['TimeGenerated [Local Time]'].dt.hour, waf_OWASP_CRS['Description']])['Description'].count().unstack().plot(kind='bar', stacked=True)\n",
    "plt.xlabel('Hour of the Day')\n",
    "plt.ylabel('Number of Attacks')\n",
    "plt.title('Top 5 OWASP CRS Attacks per Hour')\n"
   ]
  }
 ],
 "metadata": {
  "kernelspec": {
   "display_name": "cloud",
   "language": "python",
   "name": "python3"
  },
  "language_info": {
   "codemirror_mode": {
    "name": "ipython",
    "version": 3
   },
   "file_extension": ".py",
   "mimetype": "text/x-python",
   "name": "python",
   "nbconvert_exporter": "python",
   "pygments_lexer": "ipython3",
   "version": "3.12.3"
  }
 },
 "nbformat": 4,
 "nbformat_minor": 2
}
